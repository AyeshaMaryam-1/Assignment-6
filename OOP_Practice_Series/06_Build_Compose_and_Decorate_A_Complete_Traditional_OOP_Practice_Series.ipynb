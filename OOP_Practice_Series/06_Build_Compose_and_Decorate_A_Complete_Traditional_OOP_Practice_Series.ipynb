{
  "nbformat": 4,
  "nbformat_minor": 0,
  "metadata": {
    "colab": {
      "provenance": [],
      "authorship_tag": "ABX9TyPS5gDorbfi4JYAs9dRPVbE",
      "include_colab_link": true
    },
    "kernelspec": {
      "name": "python3",
      "display_name": "Python 3"
    },
    "language_info": {
      "name": "python"
    }
  },
  "cells": [
    {
      "cell_type": "markdown",
      "metadata": {
        "id": "view-in-github",
        "colab_type": "text"
      },
      "source": [
        "<a href=\"https://colab.research.google.com/github/AyeshaMaryam-1/Assignment-6/blob/main/OOP_Practice_Series/06_Build_Compose_and_Decorate_A_Complete_Traditional_OOP_Practice_Series.ipynb\" target=\"_parent\"><img src=\"https://colab.research.google.com/assets/colab-badge.svg\" alt=\"Open In Colab\"/></a>"
      ]
    },
    {
      "cell_type": "markdown",
      "source": [
        "#1. Using self"
      ],
      "metadata": {
        "id": "EJRTxbg_hi9C"
      }
    },
    {
      "cell_type": "code",
      "execution_count": 1,
      "metadata": {
        "colab": {
          "base_uri": "https://localhost:8080/"
        },
        "id": "i7MOL5_whZJE",
        "outputId": "8ce032be-b9ae-4062-9aef-0dbe2bce1aba"
      },
      "outputs": [
        {
          "output_type": "stream",
          "name": "stdout",
          "text": [
            "Student Name: Alice\n",
            "Marks: 85\n"
          ]
        }
      ],
      "source": [
        "class Student:\n",
        "    def __init__(self, name, marks):\n",
        "        self.name = name\n",
        "        self.marks = marks\n",
        "\n",
        "    def display(self):\n",
        "        print(f\"Student Name: {self.name}\")\n",
        "        print(f\"Marks: {self.marks}\")\n",
        "\n",
        "student1 = Student(\"Alice\", 85)\n",
        "student1.display()\n"
      ]
    },
    {
      "cell_type": "markdown",
      "source": [
        "#2. Using cls\n"
      ],
      "metadata": {
        "id": "To6lBLWRiUj7"
      }
    },
    {
      "cell_type": "code",
      "source": [
        "class Counter:\n",
        "    count = 0\n",
        "\n",
        "    def __init__(self):\n",
        "        Counter.count += 1\n",
        "\n",
        "    @classmethod\n",
        "    def display_count(cls):\n",
        "        print(f\"Total objects created: {cls.count}\")\n",
        "\n",
        "obj1 = Counter()\n",
        "obj2 = Counter()\n",
        "obj3 = Counter()\n",
        "\n",
        "Counter.display_count()\n"
      ],
      "metadata": {
        "colab": {
          "base_uri": "https://localhost:8080/"
        },
        "id": "GlRZp5zQiZK_",
        "outputId": "58df3109-520f-4a99-8aaa-3580eca6252f"
      },
      "execution_count": 2,
      "outputs": [
        {
          "output_type": "stream",
          "name": "stdout",
          "text": [
            "Total objects created: 3\n"
          ]
        }
      ]
    },
    {
      "cell_type": "markdown",
      "source": [
        "#3. Public Variables and Methods\n"
      ],
      "metadata": {
        "id": "Nhm90BjnjB5Z"
      }
    },
    {
      "cell_type": "code",
      "source": [
        "class Car:\n",
        "    def __init__(self, brand):\n",
        "        self.brand = brand  # Public variable\n",
        "\n",
        "    def start(self):        # Public method\n",
        "        print(f\"The {self.brand} car has started.\")\n",
        "\n",
        "# Instantiate the class\n",
        "my_car = Car(\"Toyota\")\n",
        "\n",
        "# Access public variable and method from outside the class\n",
        "print(\"Car Brand:\", my_car.brand)\n",
        "my_car.start()\n"
      ],
      "metadata": {
        "colab": {
          "base_uri": "https://localhost:8080/"
        },
        "id": "TIy2qR_XjFUr",
        "outputId": "b099a14a-f9d4-4717-a0ca-2e24eef04123"
      },
      "execution_count": 3,
      "outputs": [
        {
          "output_type": "stream",
          "name": "stdout",
          "text": [
            "Car Brand: Toyota\n",
            "The Toyota car has started.\n"
          ]
        }
      ]
    },
    {
      "cell_type": "markdown",
      "source": [
        "#4. Class Variables and Class Methods\n"
      ],
      "metadata": {
        "id": "bac3lg8zjlwK"
      }
    },
    {
      "cell_type": "code",
      "source": [
        "class Bank:\n",
        "    bank_name = \"Default Bank\"  # Class variable\n",
        "\n",
        "    def __init__(self, customer_name):\n",
        "        self.customer_name = customer_name\n",
        "\n",
        "    @classmethod\n",
        "    def change_bank_name(cls, name):\n",
        "        cls.bank_name = name  # Modify class variable using cls\n",
        "\n",
        "    def display(self):\n",
        "        print(f\"Customer: {self.customer_name}, Bank: {Bank.bank_name}\")\n",
        "\n",
        "# Creating instances\n",
        "cust1 = Bank(\"Ayesha\")\n",
        "cust2 = Bank(\"Maryam\")\n",
        "\n",
        "# Displaying initial bank name\n",
        "cust1.display()\n",
        "cust2.display()\n",
        "\n",
        "# Changing bank name using class method\n",
        "Bank.change_bank_name(\"Trust Bank\")\n",
        "\n",
        "# Showing that change reflects for all instances\n",
        "cust1.display()\n",
        "cust2.display()\n"
      ],
      "metadata": {
        "colab": {
          "base_uri": "https://localhost:8080/"
        },
        "id": "tuBdNgrJjpQZ",
        "outputId": "684bf21b-8b84-4cb6-b363-3d1f7684d320"
      },
      "execution_count": 5,
      "outputs": [
        {
          "output_type": "stream",
          "name": "stdout",
          "text": [
            "Customer: Ayesha, Bank: Default Bank\n",
            "Customer: Maryam, Bank: Default Bank\n",
            "Customer: Ayesha, Bank: Trust Bank\n",
            "Customer: Maryam, Bank: Trust Bank\n"
          ]
        }
      ]
    },
    {
      "cell_type": "markdown",
      "source": [
        "#5. Static Variables and Static Methods\n"
      ],
      "metadata": {
        "id": "AAaL5fXUldCS"
      }
    },
    {
      "cell_type": "code",
      "source": [
        "class MathUtils:\n",
        "    @staticmethod\n",
        "    def add(a, b):\n",
        "        return a + b\n",
        "\n",
        "result = MathUtils.add(10, 20)\n",
        "print(f\"Sum: {result}\")\n"
      ],
      "metadata": {
        "colab": {
          "base_uri": "https://localhost:8080/"
        },
        "id": "DcO7j4OXm-6B",
        "outputId": "a5a3cd5d-f7e4-43fc-fe08-30aa88d63c01"
      },
      "execution_count": 6,
      "outputs": [
        {
          "output_type": "stream",
          "name": "stdout",
          "text": [
            "Sum: 30\n"
          ]
        }
      ]
    },
    {
      "cell_type": "markdown",
      "source": [
        "#6. Constructors and Destructors\n"
      ],
      "metadata": {
        "id": "EW5gyZbGnQm3"
      }
    },
    {
      "cell_type": "code",
      "source": [
        "class Logger:\n",
        "    def __init__(self):\n",
        "        print(\"Logger object created.\")\n",
        "\n",
        "    def __del__(self):\n",
        "        print(\"Logger object destroyed.\")\n",
        "\n",
        "log = Logger()\n",
        "\n",
        "del log\n"
      ],
      "metadata": {
        "colab": {
          "base_uri": "https://localhost:8080/"
        },
        "id": "zyNwqP4HnVmG",
        "outputId": "79f7663f-edb6-4ca8-fb08-e315305ed92c"
      },
      "execution_count": 7,
      "outputs": [
        {
          "output_type": "stream",
          "name": "stdout",
          "text": [
            "Logger object created.\n",
            "Logger object destroyed.\n"
          ]
        }
      ]
    },
    {
      "cell_type": "markdown",
      "source": [
        "#7. Access Modifiers: Public, Private, and Protected\n"
      ],
      "metadata": {
        "id": "YRVXmw2UnpZE"
      }
    },
    {
      "cell_type": "code",
      "source": [
        "class Employee:\n",
        "    def __init__(self, name, salary, ssn):\n",
        "        self.name = name        # Public variable\n",
        "        self._salary = salary   # Protected variable (by convention)\n",
        "        self.__ssn = ssn        # Private variable (name mangled)\n",
        "\n",
        "# Create an instance of Employee\n",
        "emp = Employee(\"Ayesha Maryam\", 50000, \"123-45-6789\")\n",
        "\n",
        "# Accessing the public variable\n",
        "print(\"Name:\", emp.name)\n",
        "\n",
        "# Accessing the protected variable\n",
        "print(\"Salary:\", emp._salary)\n",
        "\n",
        "# Accessing the private variable\n",
        "try:\n",
        "    print(\"SSN:\", emp.__ssn)\n",
        "except AttributeError as e:\n",
        "    print(\"Error accessing private variable:\", e)\n",
        "\n",
        "# Accessing the private variable using name mangling\n",
        "print(\"SSN (using name mangling):\", emp._Employee__ssn)\n"
      ],
      "metadata": {
        "colab": {
          "base_uri": "https://localhost:8080/"
        },
        "id": "hppxWXu8nsaH",
        "outputId": "f1c39fdf-26eb-4b08-df16-cfbad5c7c9aa"
      },
      "execution_count": 8,
      "outputs": [
        {
          "output_type": "stream",
          "name": "stdout",
          "text": [
            "Name: Ayesha Maryam\n",
            "Salary: 50000\n",
            "Error accessing private variable: 'Employee' object has no attribute '__ssn'\n",
            "SSN (using name mangling): 123-45-6789\n"
          ]
        }
      ]
    },
    {
      "cell_type": "markdown",
      "source": [
        "#8. The super() Function\n"
      ],
      "metadata": {
        "id": "MCk-4ohApBzK"
      }
    },
    {
      "cell_type": "code",
      "source": [
        "class Person:\n",
        "    def __init__(self, name):\n",
        "        self.name = name  # Base class constructor\n",
        "\n",
        "class Teacher(Person):\n",
        "    def __init__(self, name, subject):\n",
        "        super().__init__(name)  # Call base class constructor\n",
        "        self.subject = subject  # Derived class field\n",
        "\n",
        "    def display(self):\n",
        "        print(f\"Name: {self.name}\")\n",
        "        print(f\"Subject: {self.subject}\")\n",
        "\n",
        "t1 = Teacher(\"Mr. John\", \"Mathematics\")\n",
        "t1.display()\n"
      ],
      "metadata": {
        "colab": {
          "base_uri": "https://localhost:8080/"
        },
        "id": "eWFHqr-qpEzO",
        "outputId": "666f0057-2893-48c8-da76-445632ca1a75"
      },
      "execution_count": 9,
      "outputs": [
        {
          "output_type": "stream",
          "name": "stdout",
          "text": [
            "Name: Mr. John\n",
            "Subject: Mathematics\n"
          ]
        }
      ]
    },
    {
      "cell_type": "markdown",
      "source": [
        "#9. Abstract Classes and Methods\n"
      ],
      "metadata": {
        "id": "kJCEPHQjpqWB"
      }
    },
    {
      "cell_type": "code",
      "source": [
        "from abc import ABC, abstractmethod\n",
        "\n",
        "# Abstract base class\n",
        "class Shape(ABC):\n",
        "    @abstractmethod\n",
        "    def area(self):\n",
        "        pass\n",
        "\n",
        "# Subclass implementing the abstract method\n",
        "class Rectangle(Shape):\n",
        "    def __init__(self, width, height):\n",
        "        self.width = width\n",
        "        self.height = height\n",
        "\n",
        "    def area(self):\n",
        "        return self.width * self.height\n",
        "\n",
        "rect = Rectangle(5, 4)\n",
        "print(\"Area of rectangle:\", rect.area())\n"
      ],
      "metadata": {
        "colab": {
          "base_uri": "https://localhost:8080/"
        },
        "id": "8eXaEnSipua9",
        "outputId": "3a61dbed-7565-46b9-8ee8-8b41be120840"
      },
      "execution_count": 10,
      "outputs": [
        {
          "output_type": "stream",
          "name": "stdout",
          "text": [
            "Area of rectangle: 20\n"
          ]
        }
      ]
    },
    {
      "cell_type": "markdown",
      "source": [
        "#10. Instance Methods\n"
      ],
      "metadata": {
        "id": "dn9oVV3nqI_e"
      }
    },
    {
      "cell_type": "code",
      "source": [
        "class Dog:\n",
        "    def __init__(self, name, breed):\n",
        "        self.name = name\n",
        "        self.breed = breed\n",
        "\n",
        "    def bark(self):\n",
        "        print(f\"{self.name}, the {self.breed}, says: Woof!\")\n",
        "\n",
        "dog1 = Dog(\"Rocky\", \"German Shepherd\")\n",
        "dog1.bark()\n"
      ],
      "metadata": {
        "colab": {
          "base_uri": "https://localhost:8080/"
        },
        "id": "2I8Nf8moqMDq",
        "outputId": "dfb4d28f-290d-4d4e-fd76-5904a7becabf"
      },
      "execution_count": 12,
      "outputs": [
        {
          "output_type": "stream",
          "name": "stdout",
          "text": [
            "Rocky, the German Shepherd, says: Woof!\n"
          ]
        }
      ]
    },
    {
      "cell_type": "markdown",
      "source": [
        "#11. Class Methods\n"
      ],
      "metadata": {
        "id": "TK-c3_pgr8bJ"
      }
    },
    {
      "cell_type": "code",
      "source": [
        "class Book:\n",
        "    total_books = 0\n",
        "\n",
        "    def __init__(self, title, author):\n",
        "        self.title = title\n",
        "        self.author = author\n",
        "        Book.increment_book_count()\n",
        "\n",
        "    @classmethod\n",
        "    def increment_book_count(cls):\n",
        "        cls.total_books += 1\n",
        "\n",
        "    @classmethod\n",
        "    def display_book_count(cls):\n",
        "        print(f\"Total books: {cls.total_books}\")\n",
        "\n",
        "# Example usage:\n",
        "book1 = Book(\"Jannat Ke Pattay\", \"Nemrah Ahmed\")\n",
        "book2 = Book(\"Peer-e-Kamil\", \"Umera Ahmed\")\n",
        "book3 = Book(\"Ab-e-Hayat\", \"Umera Ahmed\")\n",
        "\n",
        "# Displaying the total number of books added\n",
        "Book.display_book_count()\n"
      ],
      "metadata": {
        "colab": {
          "base_uri": "https://localhost:8080/"
        },
        "id": "nWxF683tr_QP",
        "outputId": "383141ac-5298-4434-c8ea-319c4a9982e5"
      },
      "execution_count": 13,
      "outputs": [
        {
          "output_type": "stream",
          "name": "stdout",
          "text": [
            "Total books: 3\n"
          ]
        }
      ]
    },
    {
      "cell_type": "markdown",
      "source": [
        "#12. Static Methods\n"
      ],
      "metadata": {
        "id": "Si7f5D37svfq"
      }
    },
    {
      "cell_type": "code",
      "source": [
        "class TemperatureConverter:\n",
        "    @staticmethod\n",
        "    def celsius_to_fahrenheit(c):\n",
        "        return (c * 9/5) + 32\n",
        "\n",
        "celsius = 25\n",
        "fahrenheit = TemperatureConverter.celsius_to_fahrenheit(celsius)\n",
        "print(f\"{celsius}°C is equal to {fahrenheit}°F\")\n"
      ],
      "metadata": {
        "colab": {
          "base_uri": "https://localhost:8080/"
        },
        "id": "ekAyJLfEswRz",
        "outputId": "2aeffb02-509b-49b1-b163-59299e515432"
      },
      "execution_count": 14,
      "outputs": [
        {
          "output_type": "stream",
          "name": "stdout",
          "text": [
            "25°C is equal to 77.0°F\n"
          ]
        }
      ]
    },
    {
      "cell_type": "markdown",
      "source": [
        "#13. Composition\n"
      ],
      "metadata": {
        "id": "g62_FrCitSn2"
      }
    },
    {
      "cell_type": "code",
      "source": [
        "class Engine:\n",
        "    def __init__(self, type_of_engine):\n",
        "        self.type_of_engine = type_of_engine\n",
        "\n",
        "    def start_engine(self):\n",
        "        print(f\"Engine of type {self.type_of_engine} started.\")\n",
        "\n",
        "class Car:\n",
        "    def __init__(self, make, engine):\n",
        "        self.make = make\n",
        "        self.engine = engine\n",
        "\n",
        "    def start_car(self):\n",
        "        print(f\"Starting the {self.make} car...\")\n",
        "        self.engine.start_engine()\n",
        "\n",
        "engine = Engine(\"V4\")\n",
        "car = Car(\"Honda Civic\", engine)\n",
        "\n",
        "car.start_car()\n"
      ],
      "metadata": {
        "colab": {
          "base_uri": "https://localhost:8080/"
        },
        "id": "9oSAJNcstVka",
        "outputId": "8dae2574-9230-4f5e-c640-824d4e8014d8"
      },
      "execution_count": 15,
      "outputs": [
        {
          "output_type": "stream",
          "name": "stdout",
          "text": [
            "Starting the Honda Civic car...\n",
            "Engine of type V4 started.\n"
          ]
        }
      ]
    },
    {
      "cell_type": "markdown",
      "source": [
        "#14. Aggregation\n"
      ],
      "metadata": {
        "id": "8A1bc3rht5dS"
      }
    },
    {
      "cell_type": "code",
      "source": [
        "class Employee:\n",
        "    def __init__(self, name, position):\n",
        "        self.name = name\n",
        "        self.position = position\n",
        "\n",
        "    def display_info(self):\n",
        "        print(f\"Employee Name: {self.name}, Position: {self.position}\")\n",
        "\n",
        "class Department:\n",
        "    def __init__(self, department_name, employee):\n",
        "        self.department_name = department_name\n",
        "        self.employee = employee\n",
        "\n",
        "    def display_department_info(self):\n",
        "        print(f\"Department: {self.department_name}\")\n",
        "        self.employee.display_info()\n",
        "\n",
        "employee1 = Employee(\"Ayesha Maryam\", \"Computer System Engineer\")\n",
        "department1 = Department(\"IT\", employee1)\n",
        "\n",
        "department1.display_department_info()\n"
      ],
      "metadata": {
        "colab": {
          "base_uri": "https://localhost:8080/"
        },
        "id": "Sb5rTpr-t7uY",
        "outputId": "931ecac2-07db-4718-f406-e7a732618527"
      },
      "execution_count": 17,
      "outputs": [
        {
          "output_type": "stream",
          "name": "stdout",
          "text": [
            "Department: IT\n",
            "Employee Name: Ayesha Maryam, Position: Computer System Engineer\n"
          ]
        }
      ]
    },
    {
      "cell_type": "markdown",
      "source": [
        "#15. Method Resolution Order (MRO) and Diamond Inheritance\n"
      ],
      "metadata": {
        "id": "7x03ShHRubWn"
      }
    },
    {
      "cell_type": "code",
      "source": [
        "class A:\n",
        "    def show(self):\n",
        "        print(\"Method from class A\")\n",
        "\n",
        "class B(A):\n",
        "    def show(self):\n",
        "        print(\"Method from class B\")\n",
        "\n",
        "class C(A):\n",
        "    def show(self):\n",
        "        print(\"Method from class C\")\n",
        "\n",
        "class D(B, C):\n",
        "    pass\n",
        "\n",
        "d = D()\n",
        "d.show() # Calling show() on an object of class D\n"
      ],
      "metadata": {
        "colab": {
          "base_uri": "https://localhost:8080/"
        },
        "id": "66VzZDIxueXM",
        "outputId": "d649272f-5853-47a6-d63f-502239b503b5"
      },
      "execution_count": 18,
      "outputs": [
        {
          "output_type": "stream",
          "name": "stdout",
          "text": [
            "Method from class B\n"
          ]
        }
      ]
    },
    {
      "cell_type": "markdown",
      "source": [
        "#16. Function Decorators\n"
      ],
      "metadata": {
        "id": "2UWFAWX_u96q"
      }
    },
    {
      "cell_type": "code",
      "source": [
        "# Decorator function to log function call\n",
        "def log_function_call(func):\n",
        "    def wrapper():\n",
        "        print(\"Function is being called\")\n",
        "        func()  # Call the original function\n",
        "    return wrapper\n",
        "\n",
        "# Function to say hello\n",
        "@log_function_call\n",
        "def say_hello():\n",
        "    print(\"Hello!\")\n",
        "\n",
        "say_hello()\n"
      ],
      "metadata": {
        "colab": {
          "base_uri": "https://localhost:8080/"
        },
        "id": "8hajqi6wvAeD",
        "outputId": "885b8a9f-92d5-41cf-8da8-5b3650b5f42e"
      },
      "execution_count": 19,
      "outputs": [
        {
          "output_type": "stream",
          "name": "stdout",
          "text": [
            "Function is being called\n",
            "Hello!\n"
          ]
        }
      ]
    },
    {
      "cell_type": "markdown",
      "source": [
        "#17. Class Decorators\n"
      ],
      "metadata": {
        "id": "QqaNeIUmvY7V"
      }
    },
    {
      "cell_type": "code",
      "source": [
        "# Class decorator to add greet method\n",
        "def add_greeting(cls):\n",
        "    def greet(self):\n",
        "        return \"Hello from Decorator!\"\n",
        "    cls.greet = greet  # Add greet method to the class\n",
        "    return cls\n",
        "\n",
        "# Apply the class decorator to the Person class\n",
        "@add_greeting\n",
        "class Person:\n",
        "    def __init__(self, name):\n",
        "        self.name = name\n",
        "\n",
        "person = Person(\"Alice\")\n",
        "print(person.greet())  # Calling greet() method added by the decorator\n"
      ],
      "metadata": {
        "colab": {
          "base_uri": "https://localhost:8080/"
        },
        "id": "xR12sLQMvbq_",
        "outputId": "c8fba220-39c0-4c92-9c17-dbd2f76632a6"
      },
      "execution_count": 20,
      "outputs": [
        {
          "output_type": "stream",
          "name": "stdout",
          "text": [
            "Hello from Decorator!\n"
          ]
        }
      ]
    },
    {
      "cell_type": "markdown",
      "source": [
        "#18. Property Decorators: @property, @setter, and @deleter\n"
      ],
      "metadata": {
        "id": "eKJp7Ij5vr4q"
      }
    },
    {
      "cell_type": "code",
      "source": [
        "class Product:\n",
        "    def __init__(self, price):\n",
        "        self._price = price  # Private attribute _price\n",
        "\n",
        "    @property\n",
        "    def price(self):\n",
        "        return self._price  # Getter for price\n",
        "\n",
        "    @price.setter\n",
        "    def price(self, value):\n",
        "        if value < 0:\n",
        "            print(\"Price cannot be negative!\")\n",
        "        else:\n",
        "            self._price = value  # Setter for price\n",
        "\n",
        "    @price.deleter\n",
        "    def price(self):\n",
        "        print(\"Deleting price...\")\n",
        "        del self._price  # Deleter for price\n",
        "\n",
        "product = Product(100)\n",
        "\n",
        "# Get price using getter\n",
        "print(product.price)\n",
        "\n",
        "# Set price using setter\n",
        "product.price = 150  # Price updated to 150\n",
        "print(product.price)\n",
        "\n",
        "# Try setting a negative price (this will print a warning)\n",
        "product.price = -50\n",
        "\n",
        "# Delete the price\n",
        "del product.price\n"
      ],
      "metadata": {
        "colab": {
          "base_uri": "https://localhost:8080/"
        },
        "id": "RdSDcQ87vtay",
        "outputId": "7f8065c3-24ec-4a4f-d069-7319c5853c7d"
      },
      "execution_count": 21,
      "outputs": [
        {
          "output_type": "stream",
          "name": "stdout",
          "text": [
            "100\n",
            "150\n",
            "Price cannot be negative!\n",
            "Deleting price...\n"
          ]
        }
      ]
    },
    {
      "cell_type": "markdown",
      "source": [
        "#19. callable() and __call__()\n"
      ],
      "metadata": {
        "id": "4n45QdvuwFoS"
      }
    },
    {
      "cell_type": "code",
      "source": [
        "class Multiplier:\n",
        "    def __init__(self, factor):\n",
        "        self.factor = factor  # Store factor when object is created\n",
        "\n",
        "    def __call__(self, value):\n",
        "        return value * self.factor  # Multiply the input by the factor\n",
        "\n",
        "multiplier = Multiplier(5)  # Create a Multiplier object with factor 5\n",
        "\n",
        "# Test with callable()\n",
        "print(callable(multiplier))\n",
        "\n",
        "# Test by calling the object like a function\n",
        "result = multiplier(10)  # should multiply 10 by 5\n",
        "print(result)\n"
      ],
      "metadata": {
        "colab": {
          "base_uri": "https://localhost:8080/"
        },
        "id": "v0_YX5EywIH7",
        "outputId": "6fdfb0f2-e8c3-4b45-da2d-7400d3224488"
      },
      "execution_count": 22,
      "outputs": [
        {
          "output_type": "stream",
          "name": "stdout",
          "text": [
            "True\n",
            "50\n"
          ]
        }
      ]
    },
    {
      "cell_type": "markdown",
      "source": [
        "#20. Creating a Custom Exception\n"
      ],
      "metadata": {
        "id": "W7hRnrHuwd4_"
      }
    },
    {
      "cell_type": "code",
      "source": [
        "# Define a custom exception\n",
        "class InvalidAgeError(Exception):\n",
        "    def __init__(self, message=\"Age must be 18 or older\"):\n",
        "        self.message = message\n",
        "        super().__init__(self.message)\n",
        "\n",
        "# Function to check the age\n",
        "def check_age(age):\n",
        "    if age < 18:\n",
        "        raise InvalidAgeError(f\"Invalid age: {age}. You must be at least 18.\")\n",
        "    else:\n",
        "        print(f\"Age {age} is valid.\")\n",
        "\n",
        "try:\n",
        "    age = int(input(\"Enter your age: \"))\n",
        "    check_age(age)\n",
        "except InvalidAgeError as e:\n",
        "    print(f\"Error: {e}\")\n",
        "except ValueError:\n",
        "    print(\"Please enter a valid number for age.\")\n"
      ],
      "metadata": {
        "colab": {
          "base_uri": "https://localhost:8080/"
        },
        "id": "nW_Ka-tZwgtR",
        "outputId": "fb85a6c4-5a08-4db8-e057-a023086524fd"
      },
      "execution_count": 23,
      "outputs": [
        {
          "output_type": "stream",
          "name": "stdout",
          "text": [
            "Enter your age: 19\n",
            "Age 19 is valid.\n"
          ]
        }
      ]
    },
    {
      "cell_type": "markdown",
      "source": [
        "#21. Make a Custom Class Iterable\n"
      ],
      "metadata": {
        "id": "uM0_IxP6wv49"
      }
    },
    {
      "cell_type": "code",
      "source": [
        "class Countdown:\n",
        "    def __init__(self, start):\n",
        "        self.start = start\n",
        "        self.current = start\n",
        "\n",
        "    def __iter__(self):\n",
        "        # Return the object itself as an iterator\n",
        "        return self\n",
        "\n",
        "    def __next__(self):\n",
        "        if self.current < 0:\n",
        "            raise StopIteration\n",
        "        else:\n",
        "            current_value = self.current\n",
        "            self.current -= 1\n",
        "            return current_value\n",
        "\n",
        "countdown = Countdown(5)\n",
        "\n",
        "for num in countdown:\n",
        "    print(num)\n"
      ],
      "metadata": {
        "colab": {
          "base_uri": "https://localhost:8080/"
        },
        "id": "y6uzqGI9wzE_",
        "outputId": "90113e82-6542-4678-8f33-b2a832e59407"
      },
      "execution_count": 24,
      "outputs": [
        {
          "output_type": "stream",
          "name": "stdout",
          "text": [
            "5\n",
            "4\n",
            "3\n",
            "2\n",
            "1\n",
            "0\n"
          ]
        }
      ]
    }
  ]
}